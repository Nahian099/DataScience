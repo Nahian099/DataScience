{
 "cells": [
  {
   "cell_type": "markdown",
   "id": "4660f722",
   "metadata": {},
   "source": [
    "Done by Nahian Tahmin\n",
    "\n",
    "26th January 2022\n",
    "\n",
    "iTQAN Intern Assessment"
   ]
  },
  {
   "cell_type": "code",
   "execution_count": 1,
   "id": "be71bb9c",
   "metadata": {},
   "outputs": [],
   "source": [
    "import pandas as pd\n",
    "import numpy as np"
   ]
  },
  {
   "cell_type": "code",
   "execution_count": 2,
   "id": "56111fe2",
   "metadata": {},
   "outputs": [],
   "source": [
    "time_format = '%d-%m-%Y %H:%M'\n",
    "date_format = '%d-%m-%Y'\n",
    "dataset_name = 'DOTUSDT'"
   ]
  },
  {
   "cell_type": "code",
   "execution_count": 3,
   "id": "33231ba0",
   "metadata": {},
   "outputs": [],
   "source": [
    "def merge_files(dataset_name):\n",
    "\n",
    "    #reading csv files\n",
    "    kline = pd.read_csv('klines/' + dataset_name + '.csv')\n",
    "    fund_rate = pd.read_csv('funding_rate/Funding Rate History_' + dataset_name + ' Perpetual_2021-02-23.csv')\n",
    "    fund_rate.rename(columns={\"Time\": \"date\"}, inplace = True)\n",
    "    \n",
    "    #changing the date column data type and generalizing the format\n",
    "    kline[\"date\"] =  pd.to_datetime(kline[\"date\"]).dt.strftime(time_format)\n",
    "    fund_rate[\"date\"] =  pd.to_datetime(fund_rate[\"date\"]).dt.strftime(time_format)\n",
    "    \n",
    "    #merging the file data\n",
    "    merged = pd.merge(kline, fund_rate, on='date', how='left')\n",
    "    merged = merged.drop('fundingRate', 1)\n",
    "\n",
    "    #storing in a csv file\n",
    "    merged.to_csv(r'merged_'+ dataset_name + '.csv',index=False, encoding='utf-8')"
   ]
  },
  {
   "cell_type": "code",
   "execution_count": 4,
   "id": "49540a99",
   "metadata": {},
   "outputs": [
    {
     "name": "stderr",
     "output_type": "stream",
     "text": [
      "C:\\Users\\Asus\\AppData\\Local\\Temp/ipykernel_8840/1319646483.py:14: FutureWarning: In a future version of pandas all arguments of DataFrame.drop except for the argument 'labels' will be keyword-only\n",
      "  merged = merged.drop('fundingRate', 1)\n"
     ]
    }
   ],
   "source": [
    "\n",
    "merge_files(dataset_name)"
   ]
  },
  {
   "cell_type": "code",
   "execution_count": 5,
   "id": "c651353e",
   "metadata": {},
   "outputs": [],
   "source": [
    "def subset_merged(dataset_name, start_date, end_date):\n",
    "    #the end and start dates must be in the format '%Y-%m-%d'\n",
    "    \n",
    "    merged_file = pd.read_csv('merged_'+ dataset_name + '.csv')\n",
    "    \n",
    "    #changing the string dates to datetime type\n",
    "    merged_file[\"date\"] = pd.to_datetime(merged_file[\"date\"])\n",
    "    start_data = pd.to_datetime(start_date)\n",
    "    end_date = pd.to_datetime(end_date)\n",
    "    \n",
    "    #selecting the rows that fit in the given date time window frame\n",
    "    mask = merged_file['date'].dt.date.between(start_data, end_date)\n",
    "\n",
    "    #extracting the selescted rows\n",
    "    new_merged = merged_file[mask]\n",
    "    \n",
    "    #storing in a csv file\n",
    "    new_merged.to_csv(r'merged.'+ dataset_name + '.dates.selected.csv',index=False, encoding='utf-8')\n",
    "    \n",
    "    "
   ]
  },
  {
   "cell_type": "code",
   "execution_count": 6,
   "id": "4e7c92fc",
   "metadata": {},
   "outputs": [
    {
     "name": "stderr",
     "output_type": "stream",
     "text": [
      "c:\\users\\asus\\appdata\\local\\programs\\python\\python39\\lib\\site-packages\\pandas\\core\\ops\\array_ops.py:73: FutureWarning: Comparison of Timestamp with datetime.date is deprecated in order to match the standard library behavior.  In a future version these will be considered non-comparable.Use 'ts == pd.Timestamp(date)' or 'ts.date() == date' instead.\n",
      "  result = libops.scalar_compare(x.ravel(), y, op)\n"
     ]
    }
   ],
   "source": [
    "subset_merged(dataset_name, '2020-08-18', '2021-01-01')"
   ]
  },
  {
   "cell_type": "code",
   "execution_count": 7,
   "id": "e5abbd95",
   "metadata": {},
   "outputs": [],
   "source": [
    "def subset_merged_fr(dataset_name, fund_rate):\n",
    "    \n",
    "    #loading the data\n",
    "    selected_merged = pd.read_csv('merged.'+ dataset_name + '.dates.selected.csv')\n",
    "    \n",
    "    #pre-processing funding rate column by removing the NAN values and turning it into numeric type\n",
    "    selected_merged['Funding Rate'] = selected_merged['Funding Rate'].apply(lambda x: str(x))\n",
    "    selected_merged['Funding Rate'] = selected_merged['Funding Rate'].apply(lambda x: float(str(x).strip('%')) if not x=='nan' else None)\n",
    "\n",
    "    #selecting the rows that has funding rate greater or equal to the stated value\n",
    "    mask = selected_merged['Funding Rate'] >= fund_rate\n",
    "\n",
    "    #extracting the selescted rows\n",
    "    new_selected = selected_merged[mask]\n",
    "    \n",
    "    #storing in a csv file\n",
    "    new_selected.to_csv(r'merged.'+ dataset_name + '.dates.selected.funding.rate.csv',index=False, encoding='utf-8')\n",
    "    \n",
    "    "
   ]
  },
  {
   "cell_type": "code",
   "execution_count": 8,
   "id": "92569f49",
   "metadata": {},
   "outputs": [],
   "source": [
    "subset_merged_fr(dataset_name, 0.0001)"
   ]
  },
  {
   "cell_type": "code",
   "execution_count": 9,
   "id": "ad7b03a5",
   "metadata": {},
   "outputs": [],
   "source": [
    "def subset_merged_fr(dataset_name, fund_rate, minutes_to_check):\n",
    "    \n",
    "    #loading the data\n",
    "    selected_merged = pd.read_csv('merged.'+ dataset_name + '.dates.selected.csv')\n",
    "    selected_merged['date'] = pd.to_datetime(selected_merged['date'])\n",
    "    \n",
    "    #pre-processing funding rate column by removing the NAN values and turning it into numeric type\n",
    "    selected_merged['Funding Rate'] = selected_merged['Funding Rate'].apply(lambda x: str(x))\n",
    "    selected_merged['Funding Rate'] = selected_merged['Funding Rate'].apply(lambda x: float(str(x).strip('%')) if not x=='nan' else None)\n",
    "\n",
    "    #selecting the rows that has funding rate greater or equal to the stated value\n",
    "    mask = selected_merged['Funding Rate'] >= fund_rate\n",
    "\n",
    "    #extracting the selescted rows\n",
    "    new_selected_1 = selected_merged[mask]\n",
    "    \n",
    "    #declaring empty dataframe to fill with the minutes to check data\n",
    "    new_selected_2 = pd.DataFrame(columns = list(selected_merged.columns))\n",
    "    \n",
    "    for index, row in new_selected_1.iterrows():\n",
    "        start_date = row['date']\n",
    "        end_date = row['date'] + pd.Timedelta(\"\" + str(minutes_to_check) + \" min\")\n",
    "        \n",
    "        #the following lines are from the subset_merged function above\n",
    "        start_date = pd.to_datetime(start_date)\n",
    "        end_date = pd.to_datetime(end_date)\n",
    "    \n",
    "        #selecting the rows that fit in the given date time window frame\n",
    "        mask = selected_merged['date'].between(start_date, end_date)\n",
    "\n",
    "        #extracting the selescted rows\n",
    "        new_merged = selected_merged[mask]\n",
    "        \n",
    "        new_selected_2 = new_selected_2.append(new_merged, ignore_index = True)\n",
    "    \n",
    "    #storing in a csv file\n",
    "    new_selected_2.to_csv(r'merged.'+ dataset_name + '.dates.selected.funding.rate.minutes.csv',index=False, encoding='utf-8')\n",
    "    \n",
    "    "
   ]
  },
  {
   "cell_type": "code",
   "execution_count": 10,
   "id": "ab14c0d1",
   "metadata": {},
   "outputs": [],
   "source": [
    "subset_merged_fr(dataset_name, 0.0001, 5)"
   ]
  },
  {
   "cell_type": "code",
   "execution_count": 13,
   "id": "69bc7846",
   "metadata": {},
   "outputs": [],
   "source": [
    "def buy_or_sell(dataset_name, start_date, end_date, funding_rate, minutes_to_check):\n",
    "    #the end and start dates must be in the format '%Y-%m-%d'\n",
    "    \n",
    "    #preprocessing the dataset using the appropriate functions\n",
    "    subset_merged(dataset_name, start_date, end_date)\n",
    "    subset_merged_fr(dataset_name, funding_rate, minutes_to_check)\n",
    "    \n",
    "    final = pd.read_csv('merged.'+ dataset_name + '.dates.selected.funding.rate.minutes.csv')\n",
    "    \n",
    "    funding_rate_final = []\n",
    "    #finding the aveage funding rate for each funding rate value in the minutes to check time frame\n",
    "    for i in range(0, len(final) - minutes_to_check, minutes_to_check) :\n",
    "        funding_rate_final.append(np.nanmean(final.loc[i:i+minutes_to_check, 'Funding Rate']))\n",
    "    \n",
    "    #adding the funding rate to see if it is long or short\n",
    "    total_fr = sum(funding_rate_final)\n",
    "\n",
    "    #printing if the currency should be sold or bought depending on the long/short of funding rate\n",
    "    if total_fr > 0:       #Long\n",
    "        print('Buy')\n",
    "    else:                  #Short\n",
    "        print('Sell')\n",
    "        \n",
    "    "
   ]
  },
  {
   "cell_type": "code",
   "execution_count": 14,
   "id": "d96a5275",
   "metadata": {},
   "outputs": [
    {
     "name": "stdout",
     "output_type": "stream",
     "text": [
      "Buy\n"
     ]
    }
   ],
   "source": [
    "buy_or_sell(dataset_name, '2020-08-18', '2021-01-01', 0.0001, 5)"
   ]
  },
  {
   "cell_type": "code",
   "execution_count": null,
   "id": "1600c51a",
   "metadata": {},
   "outputs": [],
   "source": []
  }
 ],
 "metadata": {
  "kernelspec": {
   "display_name": "Python 3 (ipykernel)",
   "language": "python",
   "name": "python3"
  },
  "language_info": {
   "codemirror_mode": {
    "name": "ipython",
    "version": 3
   },
   "file_extension": ".py",
   "mimetype": "text/x-python",
   "name": "python",
   "nbconvert_exporter": "python",
   "pygments_lexer": "ipython3",
   "version": "3.9.0"
  }
 },
 "nbformat": 4,
 "nbformat_minor": 5
}
